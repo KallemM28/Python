{
 "cells": [
  {
   "cell_type": "code",
   "execution_count": 1,
   "id": "10f3a2d5-e502-48ff-b2d4-eecc8d9197fd",
   "metadata": {},
   "outputs": [],
   "source": [
    "#Q1 Create a python program to sort the given list of tuples based on integer value using a lambda function"
   ]
  },
  {
   "cell_type": "code",
   "execution_count": 2,
   "id": "0e49b37d-12dc-4e0a-b4eb-739a51dd526c",
   "metadata": {},
   "outputs": [],
   "source": [
    "l7 = [('Sachin Tendulkar', 34357), ('Ricky pointing', 27483), ('Jack Kallis', 25534), ('Virat Kohli', 24936)]"
   ]
  },
  {
   "cell_type": "code",
   "execution_count": 3,
   "id": "d8dde400-5ef7-43bb-be36-42c9853e413d",
   "metadata": {},
   "outputs": [
    {
     "name": "stdout",
     "output_type": "stream",
     "text": [
      "('Virat Kohli', 24936)\n",
      "('Jack Kallis', 25534)\n",
      "('Ricky pointing', 27483)\n",
      "('Sachin Tendulkar', 34357)\n"
     ]
    }
   ],
   "source": [
    "l8= sorted(l7, key = lambda x:x[1])\n",
    "for i in l8:\n",
    "  print(i)"
   ]
  },
  {
   "cell_type": "code",
   "execution_count": 4,
   "id": "798a737d-8b08-4674-8020-5cfea277cd2c",
   "metadata": {},
   "outputs": [],
   "source": [
    "#Q2 Write a python program to find the squares of all the numbers in the given list of integers using lambda and map functions"
   ]
  },
  {
   "cell_type": "code",
   "execution_count": 5,
   "id": "6ea4b1e3-5c0f-4b77-a6f3-f73ca9493912",
   "metadata": {},
   "outputs": [],
   "source": [
    "l = [1,2,3,4,5,6,7,8,9,10]"
   ]
  },
  {
   "cell_type": "code",
   "execution_count": 6,
   "id": "fa1b1043-e1ce-4ba0-9d09-bdb246ae54e3",
   "metadata": {},
   "outputs": [],
   "source": [
    "def sq(x) :\n",
    "  return x**2"
   ]
  },
  {
   "cell_type": "code",
   "execution_count": 7,
   "id": "56b79f97-de0a-4112-8478-f5e923219a80",
   "metadata": {},
   "outputs": [
    {
     "data": {
      "text/plain": [
       "[1, 4, 9, 16, 25, 36, 49, 64, 81, 100]"
      ]
     },
     "execution_count": 7,
     "metadata": {},
     "output_type": "execute_result"
    }
   ],
   "source": [
    "list(map(sq, l))"
   ]
  },
  {
   "cell_type": "code",
   "execution_count": 8,
   "id": "47b1b818-6e33-4c35-b468-8934d5b839b4",
   "metadata": {},
   "outputs": [
    {
     "data": {
      "text/plain": [
       "[1, 4, 9, 16, 25, 36, 49, 64, 81, 100]"
      ]
     },
     "execution_count": 8,
     "metadata": {},
     "output_type": "execute_result"
    }
   ],
   "source": [
    "list(map(lambda x: x**2, l))"
   ]
  },
  {
   "cell_type": "code",
   "execution_count": 14,
   "id": "be06c6ae-15cd-4f6b-b6d5-47bbc1f904cb",
   "metadata": {},
   "outputs": [],
   "source": [
    "#Q3 Write a python program to convert a given list of integers into a tuple of strings use map and lambda functions"
   ]
  },
  {
   "cell_type": "code",
   "execution_count": 10,
   "id": "cac67f54-aa25-49a7-b3e5-894336002571",
   "metadata": {},
   "outputs": [],
   "source": [
    "l2 = [1,2,3,4,5,6,7,8,9,10]"
   ]
  },
  {
   "cell_type": "code",
   "execution_count": 11,
   "id": "78e6d272-78d5-4b5c-ae32-e6f26dfd0fa2",
   "metadata": {},
   "outputs": [],
   "source": [
    "def st(x):\n",
    "  return str((x))"
   ]
  },
  {
   "cell_type": "code",
   "execution_count": 12,
   "id": "12479ae7-25cb-4ab6-a748-274e67037abc",
   "metadata": {},
   "outputs": [
    {
     "data": {
      "text/plain": [
       "('1', '2', '3', '4', '5', '6', '7', '8', '9', '10')"
      ]
     },
     "execution_count": 12,
     "metadata": {},
     "output_type": "execute_result"
    }
   ],
   "source": [
    "tuple(map(st, tuple(l2)))"
   ]
  },
  {
   "cell_type": "code",
   "execution_count": 13,
   "id": "c4497db2-a229-4483-bb45-3b87e9b45a1b",
   "metadata": {},
   "outputs": [
    {
     "data": {
      "text/plain": [
       "('1', '2', '3', '4', '5', '6', '7', '8', '9', '10')"
      ]
     },
     "execution_count": 13,
     "metadata": {},
     "output_type": "execute_result"
    }
   ],
   "source": [
    "tuple(map(lambda x: str(x), l2))"
   ]
  },
  {
   "cell_type": "code",
   "execution_count": 15,
   "id": "e87db398-bbf3-4949-bbd1-afcfbab74df0",
   "metadata": {},
   "outputs": [],
   "source": [
    "#Q4 Write a python program using reduce function to compute the product of a list containing numbers 1 to 25"
   ]
  },
  {
   "cell_type": "code",
   "execution_count": 16,
   "id": "5d72d46d-5e8b-4dc7-8a72-5bf5c82cf9b4",
   "metadata": {},
   "outputs": [],
   "source": [
    "l4 = [1,2,3,4,5,6,7,8,9,10,11,12,13,14,15,16,17,18,19,20,21,22,23,24,25]"
   ]
  },
  {
   "cell_type": "code",
   "execution_count": 17,
   "id": "715de6ca-3a2b-477c-bd09-e833b1f3afde",
   "metadata": {},
   "outputs": [],
   "source": [
    "from functools import reduce"
   ]
  },
  {
   "cell_type": "code",
   "execution_count": 18,
   "id": "9796cf77-894c-4829-b011-a99885324e3e",
   "metadata": {},
   "outputs": [
    {
     "data": {
      "text/plain": [
       "15511210043330985984000000"
      ]
     },
     "execution_count": 18,
     "metadata": {},
     "output_type": "execute_result"
    }
   ],
   "source": [
    "reduce(lambda x, y: x*y, l4)\n"
   ]
  },
  {
   "cell_type": "code",
   "execution_count": 19,
   "id": "46e5e179-489e-475f-a95b-f46de0aeb9a9",
   "metadata": {},
   "outputs": [],
   "source": [
    "#Q5 Write a python program to filter the numbers in a given list that are divisible by 2 and 3 using the filter function"
   ]
  },
  {
   "cell_type": "code",
   "execution_count": 20,
   "id": "84465ee8-9b5a-4968-a6b6-dee82b942d65",
   "metadata": {},
   "outputs": [],
   "source": [
    "l5= [2,3,6,9,27,60,90,120,55,46]"
   ]
  },
  {
   "cell_type": "code",
   "execution_count": 21,
   "id": "8db640c5-4334-40e3-bf5b-91b0f2b65da5",
   "metadata": {},
   "outputs": [
    {
     "data": {
      "text/plain": [
       "[2, 6, 60, 90, 120, 46]"
      ]
     },
     "execution_count": 21,
     "metadata": {},
     "output_type": "execute_result"
    }
   ],
   "source": [
    "list(filter(lambda x: x%2 == 0, l5))"
   ]
  },
  {
   "cell_type": "code",
   "execution_count": 22,
   "id": "4cd58b4a-5ef8-4315-918a-3c9d65d76657",
   "metadata": {},
   "outputs": [
    {
     "data": {
      "text/plain": [
       "[3, 6, 9, 27, 60, 90, 120]"
      ]
     },
     "execution_count": 22,
     "metadata": {},
     "output_type": "execute_result"
    }
   ],
   "source": [
    "list(filter(lambda x: x%3 == 0, l5))"
   ]
  },
  {
   "cell_type": "code",
   "execution_count": 23,
   "id": "0975d944-faa0-4ab8-8c59-0e07a7277705",
   "metadata": {},
   "outputs": [],
   "source": [
    "#Q6 Write a python program to find pallindromes in the given list of strings using lambda and filter function"
   ]
  },
  {
   "cell_type": "code",
   "execution_count": 24,
   "id": "2fba6a3f-51ba-4120-8489-4b5ad7948e0b",
   "metadata": {},
   "outputs": [],
   "source": [
    "l6= ['python', 'php', 'aba', 'radar', 'level']"
   ]
  },
  {
   "cell_type": "code",
   "execution_count": 25,
   "id": "6b59b93a-691c-4f31-b5b9-0c3e72a502b2",
   "metadata": {},
   "outputs": [
    {
     "data": {
      "text/plain": [
       "['php', 'aba', 'radar', 'level']"
      ]
     },
     "execution_count": 25,
     "metadata": {},
     "output_type": "execute_result"
    }
   ],
   "source": [
    "list(filter(lambda x: x ==x[::-1], l6))"
   ]
  },
  {
   "cell_type": "code",
   "execution_count": null,
   "id": "3adaa89a-8391-410c-b2f7-b98ea67277bd",
   "metadata": {},
   "outputs": [],
   "source": []
  }
 ],
 "metadata": {
  "kernelspec": {
   "display_name": "Python 3 (ipykernel)",
   "language": "python",
   "name": "python3"
  },
  "language_info": {
   "codemirror_mode": {
    "name": "ipython",
    "version": 3
   },
   "file_extension": ".py",
   "mimetype": "text/x-python",
   "name": "python",
   "nbconvert_exporter": "python",
   "pygments_lexer": "ipython3",
   "version": "3.10.8"
  }
 },
 "nbformat": 4,
 "nbformat_minor": 5
}
