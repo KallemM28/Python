{
 "cells": [
  {
   "cell_type": "code",
   "execution_count": 1,
   "id": "bfbdf280-6b09-4095-af2c-542fb1bdabe5",
   "metadata": {},
   "outputs": [],
   "source": [
    "#Q1 Create one variable containing following type of data"
   ]
  },
  {
   "cell_type": "code",
   "execution_count": 2,
   "id": "61246021-b42a-424f-ab90-86dbeb6d3ed1",
   "metadata": {},
   "outputs": [],
   "source": [
    " a = (\"work\")"
   ]
  },
  {
   "cell_type": "code",
   "execution_count": 3,
   "id": "fdd6eb35-94ab-4274-ac93-23a6479cd3b2",
   "metadata": {},
   "outputs": [
    {
     "data": {
      "text/plain": [
       "str"
      ]
     },
     "execution_count": 3,
     "metadata": {},
     "output_type": "execute_result"
    }
   ],
   "source": [
    "type(a)"
   ]
  },
  {
   "cell_type": "code",
   "execution_count": 4,
   "id": "caeb0ae4-e01b-4be2-927e-ed713b905bc0",
   "metadata": {},
   "outputs": [],
   "source": [
    "b = [3,4,5,6, \"ring\", \"False\", 4+7j]"
   ]
  },
  {
   "cell_type": "code",
   "execution_count": 5,
   "id": "93904402-7708-4b4b-bb06-ee156b2f0dea",
   "metadata": {},
   "outputs": [
    {
     "data": {
      "text/plain": [
       "list"
      ]
     },
     "execution_count": 5,
     "metadata": {},
     "output_type": "execute_result"
    }
   ],
   "source": [
    "type(b)"
   ]
  },
  {
   "cell_type": "code",
   "execution_count": 6,
   "id": "0fe7491b-ffef-4745-b85e-35f38d5f96ed",
   "metadata": {},
   "outputs": [],
   "source": [
    "c = 34.67"
   ]
  },
  {
   "cell_type": "code",
   "execution_count": 7,
   "id": "cf6b1b0e-6c77-49ad-9d6b-885893370c5d",
   "metadata": {},
   "outputs": [
    {
     "data": {
      "text/plain": [
       "float"
      ]
     },
     "execution_count": 7,
     "metadata": {},
     "output_type": "execute_result"
    }
   ],
   "source": [
    "type(c)"
   ]
  },
  {
   "cell_type": "code",
   "execution_count": 8,
   "id": "d3406e7f-2536-4972-b5d1-e035768790b8",
   "metadata": {},
   "outputs": [],
   "source": [
    "b = (3,4,5,6, \"ring\", \"False\", 4+7j)"
   ]
  },
  {
   "cell_type": "code",
   "execution_count": 9,
   "id": "56a0a6ea-ee17-4a11-865a-21ebd4c9b013",
   "metadata": {},
   "outputs": [
    {
     "data": {
      "text/plain": [
       "tuple"
      ]
     },
     "execution_count": 9,
     "metadata": {},
     "output_type": "execute_result"
    }
   ],
   "source": [
    "type(b)"
   ]
  },
  {
   "cell_type": "code",
   "execution_count": 10,
   "id": "875d7ffd-f8df-4b9a-b66c-7edc688a0894",
   "metadata": {},
   "outputs": [],
   "source": [
    "#Q2 Given are some following variables containing data"
   ]
  },
  {
   "cell_type": "code",
   "execution_count": 11,
   "id": "7908b2a6-2dbb-4532-ae93-1b0bb6d72741",
   "metadata": {},
   "outputs": [],
   "source": [
    "a1 = 'worl'"
   ]
  },
  {
   "cell_type": "code",
   "execution_count": 13,
   "id": "98f5f783-8efd-4b20-afaf-4c9fdd5f0c94",
   "metadata": {},
   "outputs": [
    {
     "data": {
      "text/plain": [
       "str"
      ]
     },
     "execution_count": 13,
     "metadata": {},
     "output_type": "execute_result"
    }
   ],
   "source": [
    "type(a1)"
   ]
  },
  {
   "cell_type": "code",
   "execution_count": 15,
   "id": "151ea5e9-801c-40ec-9826-38bb47bea537",
   "metadata": {},
   "outputs": [],
   "source": [
    "a2 = '[DS, ML, Python]'"
   ]
  },
  {
   "cell_type": "code",
   "execution_count": 16,
   "id": "a0305b9a-9dbf-485d-8cc3-033109a9e23d",
   "metadata": {},
   "outputs": [
    {
     "data": {
      "text/plain": [
       "str"
      ]
     },
     "execution_count": 16,
     "metadata": {},
     "output_type": "execute_result"
    }
   ],
   "source": [
    "type(a2)"
   ]
  },
  {
   "cell_type": "code",
   "execution_count": 17,
   "id": "42433ba4-7276-42cf-bb27-856455c812d7",
   "metadata": {},
   "outputs": [],
   "source": [
    "a3 = ['DS', 'ML', 'Python']"
   ]
  },
  {
   "cell_type": "code",
   "execution_count": 18,
   "id": "a824f31a-e24e-41ac-a1e3-88e2898c3155",
   "metadata": {},
   "outputs": [
    {
     "data": {
      "text/plain": [
       "list"
      ]
     },
     "execution_count": 18,
     "metadata": {},
     "output_type": "execute_result"
    }
   ],
   "source": [
    "type(a3)"
   ]
  },
  {
   "cell_type": "code",
   "execution_count": 19,
   "id": "0abc2413-0234-4977-9d9d-8e16cdf4c29a",
   "metadata": {},
   "outputs": [],
   "source": [
    "a4 = 1"
   ]
  },
  {
   "cell_type": "code",
   "execution_count": 20,
   "id": "2285c200-c2d1-45ac-b958-67c51cc548c4",
   "metadata": {},
   "outputs": [
    {
     "data": {
      "text/plain": [
       "int"
      ]
     },
     "execution_count": 20,
     "metadata": {},
     "output_type": "execute_result"
    }
   ],
   "source": [
    "type(a4)"
   ]
  },
  {
   "cell_type": "code",
   "execution_count": 21,
   "id": "9cd1477f-5bdc-4b5f-8d79-fa6e99ea8c34",
   "metadata": {},
   "outputs": [],
   "source": [
    "#Q3 Explain the use of following operators using an example"
   ]
  },
  {
   "cell_type": "code",
   "execution_count": 23,
   "id": "efac52aa-9916-47ce-8a4d-a0b47f19cbac",
   "metadata": {},
   "outputs": [],
   "source": [
    "#/ = Division"
   ]
  },
  {
   "cell_type": "code",
   "execution_count": 24,
   "id": "6e0fed09-4282-4518-a2bf-0e77c65d90d6",
   "metadata": {},
   "outputs": [
    {
     "data": {
      "text/plain": [
       "10.0"
      ]
     },
     "execution_count": 24,
     "metadata": {},
     "output_type": "execute_result"
    }
   ],
   "source": [
    "30/3"
   ]
  },
  {
   "cell_type": "code",
   "execution_count": 25,
   "id": "23093198-d134-408a-a61a-42ed7d27c20c",
   "metadata": {},
   "outputs": [],
   "source": [
    "#% = gives the Reminder"
   ]
  },
  {
   "cell_type": "code",
   "execution_count": 26,
   "id": "d97a24b1-19f9-46fa-b661-ac0f6a49072a",
   "metadata": {},
   "outputs": [
    {
     "data": {
      "text/plain": [
       "0"
      ]
     },
     "execution_count": 26,
     "metadata": {},
     "output_type": "execute_result"
    }
   ],
   "source": [
    "25%5"
   ]
  },
  {
   "cell_type": "code",
   "execution_count": 27,
   "id": "c109dbad-56b6-4075-b596-ff1682a139b7",
   "metadata": {},
   "outputs": [],
   "source": [
    "#// = gives the quotient"
   ]
  },
  {
   "cell_type": "code",
   "execution_count": 28,
   "id": "ad58e182-73b0-45b5-8083-a33a6d67170e",
   "metadata": {},
   "outputs": [
    {
     "data": {
      "text/plain": [
       "5"
      ]
     },
     "execution_count": 28,
     "metadata": {},
     "output_type": "execute_result"
    }
   ],
   "source": [
    "25//5"
   ]
  },
  {
   "cell_type": "code",
   "execution_count": 29,
   "id": "33a09fbc-8586-46a4-a168-28ea601cdf3d",
   "metadata": {},
   "outputs": [],
   "source": [
    "#** = power"
   ]
  },
  {
   "cell_type": "code",
   "execution_count": 30,
   "id": "0cb13485-0c81-475a-bd8e-3dda06ae7d8a",
   "metadata": {},
   "outputs": [
    {
     "data": {
      "text/plain": [
       "16"
      ]
     },
     "execution_count": 30,
     "metadata": {},
     "output_type": "execute_result"
    }
   ],
   "source": [
    "2**4"
   ]
  },
  {
   "cell_type": "code",
   "execution_count": 31,
   "id": "5621e15a-c75b-4908-a6c7-ce071a734acd",
   "metadata": {},
   "outputs": [],
   "source": [
    "#Q4 Create a list of length 10 of your choice containing multiple types of data. Using for loop print the leemnt and its type"
   ]
  },
  {
   "cell_type": "code",
   "execution_count": 32,
   "id": "81568b3d-808d-4755-a5fc-9c2516873dcf",
   "metadata": {},
   "outputs": [],
   "source": [
    "b = [3,4,5,6, 7, 8, \"ring\", \"False\", 4+7j, 45.8]"
   ]
  },
  {
   "cell_type": "code",
   "execution_count": 33,
   "id": "8b4a2f58-f261-47f9-b635-e9042e413d47",
   "metadata": {},
   "outputs": [
    {
     "name": "stdout",
     "output_type": "stream",
     "text": [
      "3\n",
      "4\n",
      "5\n",
      "6\n",
      "7\n",
      "8\n",
      "ring\n",
      "False\n",
      "(4+7j)\n",
      "45.8\n"
     ]
    }
   ],
   "source": [
    "for i in b :\n",
    "    print(i)"
   ]
  },
  {
   "cell_type": "code",
   "execution_count": 36,
   "id": "b772556a-4d17-4bde-87a7-0357e81bfce3",
   "metadata": {},
   "outputs": [
    {
     "data": {
      "text/plain": [
       "int"
      ]
     },
     "execution_count": 36,
     "metadata": {},
     "output_type": "execute_result"
    }
   ],
   "source": [
    "type(3)"
   ]
  },
  {
   "cell_type": "code",
   "execution_count": 37,
   "id": "dd5450b0-c284-4032-944f-f808a097436c",
   "metadata": {},
   "outputs": [
    {
     "data": {
      "text/plain": [
       "int"
      ]
     },
     "execution_count": 37,
     "metadata": {},
     "output_type": "execute_result"
    }
   ],
   "source": [
    "type(4)"
   ]
  },
  {
   "cell_type": "code",
   "execution_count": 38,
   "id": "59b1504d-8061-4c7e-a3e4-cda9929d811f",
   "metadata": {},
   "outputs": [
    {
     "data": {
      "text/plain": [
       "int"
      ]
     },
     "execution_count": 38,
     "metadata": {},
     "output_type": "execute_result"
    }
   ],
   "source": [
    "type(5)"
   ]
  },
  {
   "cell_type": "code",
   "execution_count": 39,
   "id": "31c5e6a0-12d8-4929-9188-132c3eeeb227",
   "metadata": {},
   "outputs": [
    {
     "data": {
      "text/plain": [
       "int"
      ]
     },
     "execution_count": 39,
     "metadata": {},
     "output_type": "execute_result"
    }
   ],
   "source": [
    "type(6)\n"
   ]
  },
  {
   "cell_type": "code",
   "execution_count": 40,
   "id": "47bc780d-f190-43cb-826a-19e447efc2a5",
   "metadata": {},
   "outputs": [
    {
     "data": {
      "text/plain": [
       "int"
      ]
     },
     "execution_count": 40,
     "metadata": {},
     "output_type": "execute_result"
    }
   ],
   "source": [
    "type(7)"
   ]
  },
  {
   "cell_type": "code",
   "execution_count": 41,
   "id": "a6e6f7c4-607f-41ce-8984-2743a28d715d",
   "metadata": {},
   "outputs": [
    {
     "data": {
      "text/plain": [
       "int"
      ]
     },
     "execution_count": 41,
     "metadata": {},
     "output_type": "execute_result"
    }
   ],
   "source": [
    "type(8)"
   ]
  },
  {
   "cell_type": "code",
   "execution_count": 43,
   "id": "18b9b5a1-0862-4646-9e43-a38d6ee36e24",
   "metadata": {},
   "outputs": [
    {
     "data": {
      "text/plain": [
       "str"
      ]
     },
     "execution_count": 43,
     "metadata": {},
     "output_type": "execute_result"
    }
   ],
   "source": [
    "type('ring')"
   ]
  },
  {
   "cell_type": "code",
   "execution_count": 47,
   "id": "3423fcaf-1470-46ef-9718-18a0882c7136",
   "metadata": {},
   "outputs": [
    {
     "data": {
      "text/plain": [
       "str"
      ]
     },
     "execution_count": 47,
     "metadata": {},
     "output_type": "execute_result"
    }
   ],
   "source": [
    "type('False')"
   ]
  },
  {
   "cell_type": "code",
   "execution_count": 45,
   "id": "2e0ef0ff-e4f4-46a7-a1c0-1faf3cb81a1a",
   "metadata": {},
   "outputs": [
    {
     "data": {
      "text/plain": [
       "complex"
      ]
     },
     "execution_count": 45,
     "metadata": {},
     "output_type": "execute_result"
    }
   ],
   "source": [
    "type(4+7j)"
   ]
  },
  {
   "cell_type": "code",
   "execution_count": 46,
   "id": "1bdb975b-46c5-487f-9011-96a46220d60a",
   "metadata": {},
   "outputs": [
    {
     "data": {
      "text/plain": [
       "float"
      ]
     },
     "execution_count": 46,
     "metadata": {},
     "output_type": "execute_result"
    }
   ],
   "source": [
    "type(45.8)"
   ]
  },
  {
   "cell_type": "code",
   "execution_count": 48,
   "id": "0e0e307e-c070-4500-8ca3-d842c3ec37f5",
   "metadata": {},
   "outputs": [],
   "source": [
    "#Q5 Using a while loop, verify if the number A is purely divisible by B and if so how many times it can be divisible"
   ]
  },
  {
   "cell_type": "code",
   "execution_count": 51,
   "id": "604fc8a0-b046-4ea3-805a-96931c3af654",
   "metadata": {},
   "outputs": [
    {
     "name": "stdout",
     "output_type": "stream",
     "text": [
      "25 is divisible by 5 and divided by 5.0 times\n"
     ]
    }
   ],
   "source": [
    "A = 25\n",
    "B = 5\n",
    "\n",
    "while A%B == 0 :\n",
    "    D = A/B\n",
    "    print(f'{A} is divisible by {B} and divided by {D} times')\n",
    "    break\n",
    "    \n",
    "else :\n",
    "    print(f'{A} is divisible by {B}')"
   ]
  },
  {
   "cell_type": "code",
   "execution_count": 52,
   "id": "4957ecff-afd2-4c38-b14b-a0336c9ee23f",
   "metadata": {},
   "outputs": [],
   "source": [
    "#Q6 Create a list containing 25 int type data. Using for loop and if else condition print if the element is divisible by 3"
   ]
  },
  {
   "cell_type": "code",
   "execution_count": 53,
   "id": "ddffee0b-199c-4c67-8769-6d8011b56c3c",
   "metadata": {},
   "outputs": [],
   "source": [
    "a = [3,6,9,12,15,18,21,24,25,29, 30, 33, 36, 39, 42, 45, 48, 51, 20, 47, 78, 76, 90, 67, 66]\n"
   ]
  },
  {
   "cell_type": "code",
   "execution_count": 55,
   "id": "e53b48b9-9801-4a46-ab0c-bdf3119f49be",
   "metadata": {},
   "outputs": [
    {
     "name": "stdout",
     "output_type": "stream",
     "text": [
      "3 is divisible by 3\n",
      "6 is divisible by 3\n",
      "9 is divisible by 3\n",
      "12 is divisible by 3\n",
      "15 is divisible by 3\n",
      "18 is divisible by 3\n",
      "21 is divisible by 3\n",
      "24 is divisible by 3\n",
      "25 is not divisible by 3\n",
      "29 is not divisible by 3\n",
      "30 is divisible by 3\n",
      "33 is divisible by 3\n",
      "36 is divisible by 3\n",
      "39 is divisible by 3\n",
      "42 is divisible by 3\n",
      "45 is divisible by 3\n",
      "48 is divisible by 3\n",
      "51 is divisible by 3\n",
      "20 is not divisible by 3\n",
      "47 is not divisible by 3\n",
      "78 is divisible by 3\n",
      "76 is not divisible by 3\n",
      "90 is divisible by 3\n",
      "67 is not divisible by 3\n",
      "66 is divisible by 3\n"
     ]
    }
   ],
   "source": [
    "for x in a :\n",
    "    if x%3 == 0 :\n",
    "        print(f'{x} is divisible by 3')\n",
    "        \n",
    "    else :\n",
    "        print(f'{x} is not divisible by 3')"
   ]
  },
  {
   "cell_type": "code",
   "execution_count": 56,
   "id": "f9cb5b9b-d767-4213-a9ce-824b96152dfb",
   "metadata": {},
   "outputs": [],
   "source": [
    "#Q7 What do you undertsand about Mutable and immutable data types. Give example for both showing this property"
   ]
  },
  {
   "cell_type": "code",
   "execution_count": 57,
   "id": "1a92d62c-1f65-4786-8bb1-6e6b1bd9ee68",
   "metadata": {},
   "outputs": [],
   "source": [
    "#Mutable = Mutable objects are the elements in the list that can be replaced by any variable"
   ]
  },
  {
   "cell_type": "code",
   "execution_count": 58,
   "id": "de9dc63a-099f-46a0-a395-99d632c7a01d",
   "metadata": {},
   "outputs": [],
   "source": [
    "b = [3,4,5,6, 7, 8, \"ring\"]"
   ]
  },
  {
   "cell_type": "code",
   "execution_count": 59,
   "id": "20c9bc00-6e11-470a-84a2-3ee51036adba",
   "metadata": {},
   "outputs": [
    {
     "data": {
      "text/plain": [
       "[3, 4, 5, 6, 7, 8, 'ring']"
      ]
     },
     "execution_count": 59,
     "metadata": {},
     "output_type": "execute_result"
    }
   ],
   "source": [
    "b"
   ]
  },
  {
   "cell_type": "code",
   "execution_count": 61,
   "id": "85c42f30-f3d7-45ba-8c8b-cf585648d1d1",
   "metadata": {},
   "outputs": [
    {
     "data": {
      "text/plain": [
       "6"
      ]
     },
     "execution_count": 61,
     "metadata": {},
     "output_type": "execute_result"
    }
   ],
   "source": [
    "b[3]"
   ]
  },
  {
   "cell_type": "code",
   "execution_count": 62,
   "id": "95e9d1f2-feea-4042-b207-696c461a8aaa",
   "metadata": {},
   "outputs": [],
   "source": [
    "b[3] = 100"
   ]
  },
  {
   "cell_type": "code",
   "execution_count": 63,
   "id": "f6307eac-ea61-4fc9-b1b0-9d9b759798da",
   "metadata": {},
   "outputs": [
    {
     "data": {
      "text/plain": [
       "[3, 4, 5, 100, 7, 8, 'ring']"
      ]
     },
     "execution_count": 63,
     "metadata": {},
     "output_type": "execute_result"
    }
   ],
   "source": [
    "b"
   ]
  },
  {
   "cell_type": "code",
   "execution_count": 64,
   "id": "0183444f-7ff7-4c47-94cc-b05adf6766f5",
   "metadata": {},
   "outputs": [],
   "source": [
    "#Immutable = Data type that cannot modified or replaced in the list"
   ]
  },
  {
   "cell_type": "code",
   "execution_count": 66,
   "id": "91f7f11a-9d99-45a8-9930-1f4ade4b64de",
   "metadata": {},
   "outputs": [],
   "source": [
    "b = \"boy\""
   ]
  },
  {
   "cell_type": "code",
   "execution_count": 67,
   "id": "e1e62d97-7a4f-4484-9c70-81e2e51feda8",
   "metadata": {},
   "outputs": [
    {
     "data": {
      "text/plain": [
       "'o'"
      ]
     },
     "execution_count": 67,
     "metadata": {},
     "output_type": "execute_result"
    }
   ],
   "source": [
    "b[1]"
   ]
  },
  {
   "cell_type": "code",
   "execution_count": 69,
   "id": "2ae70afe-d9e5-47cc-b491-fdf034a86d8c",
   "metadata": {},
   "outputs": [
    {
     "ename": "TypeError",
     "evalue": "'str' object does not support item assignment",
     "output_type": "error",
     "traceback": [
      "\u001b[0;31m---------------------------------------------------------------------------\u001b[0m",
      "\u001b[0;31mTypeError\u001b[0m                                 Traceback (most recent call last)",
      "Cell \u001b[0;32mIn[69], line 1\u001b[0m\n\u001b[0;32m----> 1\u001b[0m \u001b[43mb\u001b[49m\u001b[43m[\u001b[49m\u001b[38;5;241;43m1\u001b[39;49m\u001b[43m]\u001b[49m \u001b[38;5;241m=\u001b[39m \u001b[38;5;124m'\u001b[39m\u001b[38;5;124ms\u001b[39m\u001b[38;5;124m'\u001b[39m\n",
      "\u001b[0;31mTypeError\u001b[0m: 'str' object does not support item assignment"
     ]
    }
   ],
   "source": [
    "b[1] = 's'"
   ]
  },
  {
   "cell_type": "code",
   "execution_count": null,
   "id": "e1970573-2df7-4159-a1d9-7aafd467327c",
   "metadata": {},
   "outputs": [],
   "source": []
  }
 ],
 "metadata": {
  "kernelspec": {
   "display_name": "Python 3 (ipykernel)",
   "language": "python",
   "name": "python3"
  },
  "language_info": {
   "codemirror_mode": {
    "name": "ipython",
    "version": 3
   },
   "file_extension": ".py",
   "mimetype": "text/x-python",
   "name": "python",
   "nbconvert_exporter": "python",
   "pygments_lexer": "ipython3",
   "version": "3.10.8"
  }
 },
 "nbformat": 4,
 "nbformat_minor": 5
}
