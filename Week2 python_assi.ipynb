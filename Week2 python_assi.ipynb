{
 "cells": [
  {
   "cell_type": "code",
   "execution_count": 1,
   "id": "cc605b5c-9439-4843-be65-af9879115380",
   "metadata": {},
   "outputs": [],
   "source": [
    "# Q1 How do you comment code in python? what are the different types of comments"
   ]
  },
  {
   "cell_type": "code",
   "execution_count": 2,
   "id": "645c04d5-4e3c-4ee1-8ec0-dea2979110db",
   "metadata": {},
   "outputs": [],
   "source": [
    "# Comment can be coded using # symbol at the starting. Two types single line and multi line comments"
   ]
  },
  {
   "cell_type": "code",
   "execution_count": 3,
   "id": "aa81c2a2-8b05-4615-9969-bd14123ca252",
   "metadata": {},
   "outputs": [],
   "source": [
    "##single line comment example\n",
    "##my name is mounika"
   ]
  },
  {
   "cell_type": "code",
   "execution_count": 5,
   "id": "878dbaa4-53a0-4661-8f1d-28eb09cf79dd",
   "metadata": {},
   "outputs": [
    {
     "name": "stdout",
     "output_type": "stream",
     "text": [
      "apple\n"
     ]
    }
   ],
   "source": [
    "## Multiline comment\n",
    "\"\"\" \n",
    "different fruits\n",
    "orange, mango,\n",
    "banana, grapes, watermelon\n",
    "apple, guava \n",
    "\"\"\"\n",
    "name = 'apple'\n",
    "print(name)"
   ]
  },
  {
   "cell_type": "code",
   "execution_count": 6,
   "id": "b3a9c69d-1d23-4bd9-8627-3b325ce33f60",
   "metadata": {},
   "outputs": [],
   "source": [
    "#Q2 What are variables in python? How do you declare and assign values to variables?\n"
   ]
  },
  {
   "cell_type": "code",
   "execution_count": 7,
   "id": "716515fb-afdd-40a3-9227-2545f7b8fc5b",
   "metadata": {},
   "outputs": [],
   "source": [
    "# Variables are alpha numeric characters and they are case sensitive. We will assign values to variables by = function "
   ]
  },
  {
   "cell_type": "code",
   "execution_count": 8,
   "id": "258c5f18-a7d1-44a8-aed9-338cfcb94dcd",
   "metadata": {},
   "outputs": [],
   "source": [
    "#example \n",
    "name = \"mounika\"\n"
   ]
  },
  {
   "cell_type": "code",
   "execution_count": 9,
   "id": "38eb8c31-760b-402e-a758-4f061376e8b7",
   "metadata": {},
   "outputs": [
    {
     "data": {
      "text/plain": [
       "'mounika'"
      ]
     },
     "execution_count": 9,
     "metadata": {},
     "output_type": "execute_result"
    }
   ],
   "source": [
    "name"
   ]
  },
  {
   "cell_type": "code",
   "execution_count": 10,
   "id": "bffb220e-a5d0-498b-b269-55e9d992884b",
   "metadata": {},
   "outputs": [],
   "source": [
    "a = 6\n",
    "b = 10.89"
   ]
  },
  {
   "cell_type": "code",
   "execution_count": 11,
   "id": "528e93ff-4b85-40cb-8a72-76034b65a68e",
   "metadata": {},
   "outputs": [
    {
     "data": {
      "text/plain": [
       "(6, 10.89)"
      ]
     },
     "execution_count": 11,
     "metadata": {},
     "output_type": "execute_result"
    }
   ],
   "source": [
    "a, b"
   ]
  },
  {
   "cell_type": "code",
   "execution_count": 12,
   "id": "f33cc9e4-23c0-46e0-8256-52d10fcec02e",
   "metadata": {},
   "outputs": [],
   "source": [
    "#Q3 How do you convert one data to another in python"
   ]
  },
  {
   "cell_type": "code",
   "execution_count": 13,
   "id": "7945777d-cbb4-4b5d-8534-44cf3eb4dd13",
   "metadata": {},
   "outputs": [],
   "source": [
    "# We convert one data type to another by Type casting"
   ]
  },
  {
   "cell_type": "code",
   "execution_count": 14,
   "id": "bf46afdc-daa5-44e6-960d-e6c64813b1e8",
   "metadata": {},
   "outputs": [
    {
     "data": {
      "text/plain": [
       "float"
      ]
     },
     "execution_count": 14,
     "metadata": {},
     "output_type": "execute_result"
    }
   ],
   "source": [
    "#example\n",
    "a= 36.89\n",
    "type(a)"
   ]
  },
  {
   "cell_type": "code",
   "execution_count": 15,
   "id": "76333f01-8f77-49f0-8b9b-6c761b538eae",
   "metadata": {},
   "outputs": [
    {
     "data": {
      "text/plain": [
       "'36.89'"
      ]
     },
     "execution_count": 15,
     "metadata": {},
     "output_type": "execute_result"
    }
   ],
   "source": [
    "str(a)"
   ]
  },
  {
   "cell_type": "code",
   "execution_count": 16,
   "id": "ae7177f6-eee9-4c76-82ac-53e59daa4635",
   "metadata": {},
   "outputs": [
    {
     "data": {
      "text/plain": [
       "36"
      ]
     },
     "execution_count": 16,
     "metadata": {},
     "output_type": "execute_result"
    }
   ],
   "source": [
    "int(a)"
   ]
  },
  {
   "cell_type": "code",
   "execution_count": 17,
   "id": "801b2ef1-8c87-400b-b1f8-8cf5be05b1a1",
   "metadata": {},
   "outputs": [],
   "source": [
    "#Q4 #Q4. How do you write and execute a Python scritp from the command line?"
   ]
  },
  {
   "cell_type": "code",
   "execution_count": 64,
   "id": "25f3c325-69bc-416a-ba35-8676fdd87cfa",
   "metadata": {},
   "outputs": [
    {
     "data": {
      "text/plain": [
       "\" Open a text editor and create a new file and enter Python code and Save the file with a '.py' extension.\\nNow open the command prompt and navigate to the directory where Python script is saved using the 'cd' command.\\nthen script can be executed by typing 'Python' followed by script's file name and press ENTER, and we can see the output of the script\""
      ]
     },
     "execution_count": 64,
     "metadata": {},
     "output_type": "execute_result"
    }
   ],
   "source": [
    "\"\"\" Open a text editor and create a new file and enter Python code and Save the file with a '.py' extension.\n",
    "Now open the command prompt and navigate to the directory where Python script is saved using the 'cd' command.\n",
    "then script can be executed by typing 'Python' followed by script's file name and press ENTER, and we can see the output of the script\"\"\"   "
   ]
  },
  {
   "cell_type": "code",
   "execution_count": 18,
   "id": "1b673408-889a-4f50-9598-11acb0ae3fcd",
   "metadata": {},
   "outputs": [],
   "source": [
    "#Q5 Give a list my_list = [1,2,3,4,5, write the code to slice the list and obtain the sub-list [2,3]]"
   ]
  },
  {
   "cell_type": "code",
   "execution_count": 19,
   "id": "d062e858-9bfd-49f8-9824-5acbd0e33049",
   "metadata": {},
   "outputs": [],
   "source": [
    "my_list = [1,2,3,4,5]"
   ]
  },
  {
   "cell_type": "code",
   "execution_count": 20,
   "id": "f9432d50-a283-4a98-995e-2c9ccc708855",
   "metadata": {},
   "outputs": [
    {
     "name": "stdout",
     "output_type": "stream",
     "text": [
      "[2, 3]\n"
     ]
    }
   ],
   "source": [
    "print(my_list[1:3])"
   ]
  },
  {
   "cell_type": "code",
   "execution_count": null,
   "id": "a661466e-00e8-426d-bc19-72034bbffad8",
   "metadata": {},
   "outputs": [],
   "source": [
    "#Q6 What is a complex number in mathematics, and how is it represented in python"
   ]
  },
  {
   "cell_type": "code",
   "execution_count": 21,
   "id": "e5b7a97d-2487-4188-9d3e-76a9d8ed9564",
   "metadata": {},
   "outputs": [],
   "source": [
    "#complex number has both a real part and imaginary part\n",
    "#Example\n",
    "c= 4+5j"
   ]
  },
  {
   "cell_type": "code",
   "execution_count": 22,
   "id": "0c32ffe7-5145-4a02-bd36-af391f949503",
   "metadata": {},
   "outputs": [
    {
     "data": {
      "text/plain": [
       "complex"
      ]
     },
     "execution_count": 22,
     "metadata": {},
     "output_type": "execute_result"
    }
   ],
   "source": [
    "type(c)"
   ]
  },
  {
   "cell_type": "code",
   "execution_count": 23,
   "id": "b48786ab-ac54-42d0-9f85-b2d6b5ca8ea3",
   "metadata": {},
   "outputs": [],
   "source": [
    "#Q7 What is the correct way to declare a variable named age and assign the value 25 to it"
   ]
  },
  {
   "cell_type": "code",
   "execution_count": 24,
   "id": "9d777fe7-6a1d-4423-9661-7d2acd46bc82",
   "metadata": {},
   "outputs": [],
   "source": [
    "age = 25"
   ]
  },
  {
   "cell_type": "code",
   "execution_count": 25,
   "id": "05c4271e-23e8-4376-99ee-4491bbc9a13c",
   "metadata": {},
   "outputs": [
    {
     "data": {
      "text/plain": [
       "25"
      ]
     },
     "execution_count": 25,
     "metadata": {},
     "output_type": "execute_result"
    }
   ],
   "source": [
    "age"
   ]
  },
  {
   "cell_type": "code",
   "execution_count": 26,
   "id": "c8813963-32cb-4637-8c9c-bad5a6ea0a2c",
   "metadata": {},
   "outputs": [],
   "source": [
    "#Q8 Declare a varaible named price and assign a value 9.99 to it. what data type does this variable belong to "
   ]
  },
  {
   "cell_type": "code",
   "execution_count": 27,
   "id": "55e16011-c60f-46f5-8755-746669ebd42a",
   "metadata": {},
   "outputs": [],
   "source": [
    "price = 9.99"
   ]
  },
  {
   "cell_type": "code",
   "execution_count": 28,
   "id": "e2cab3b7-0972-4272-8210-fb6a495d7f86",
   "metadata": {},
   "outputs": [
    {
     "data": {
      "text/plain": [
       "float"
      ]
     },
     "execution_count": 28,
     "metadata": {},
     "output_type": "execute_result"
    }
   ],
   "source": [
    "type(price)"
   ]
  },
  {
   "cell_type": "code",
   "execution_count": 29,
   "id": "78359d46-4e42-43ff-b9e6-e0a09c17babc",
   "metadata": {},
   "outputs": [],
   "source": [
    "# Q9 Create a variable named name and assign your full name to it as a string. How would you print the value of this variable"
   ]
  },
  {
   "cell_type": "code",
   "execution_count": 30,
   "id": "adaba05d-0ea7-42fe-8ad9-607aa7771113",
   "metadata": {},
   "outputs": [],
   "source": [
    "name= \"kallem mounika\""
   ]
  },
  {
   "cell_type": "code",
   "execution_count": 31,
   "id": "5551bb5a-f043-4c12-9e0b-eab3ca47a094",
   "metadata": {},
   "outputs": [
    {
     "name": "stdout",
     "output_type": "stream",
     "text": [
      "kallem mounika\n"
     ]
    }
   ],
   "source": [
    "print(name)"
   ]
  },
  {
   "cell_type": "code",
   "execution_count": 32,
   "id": "b572a9a0-17cb-498f-ae90-608e20cacd5e",
   "metadata": {},
   "outputs": [],
   "source": [
    "# Q10 Given the string \"Hello World!\". Extract the substring World"
   ]
  },
  {
   "cell_type": "code",
   "execution_count": 33,
   "id": "c34bcfdc-459a-4e7d-8c60-0b3821b79bb7",
   "metadata": {},
   "outputs": [],
   "source": [
    "c = \"Hello World!\""
   ]
  },
  {
   "cell_type": "code",
   "execution_count": 42,
   "id": "7a031e9e-eddd-4238-9127-9555a251c5d2",
   "metadata": {},
   "outputs": [
    {
     "data": {
      "text/plain": [
       "'World'"
      ]
     },
     "execution_count": 42,
     "metadata": {},
     "output_type": "execute_result"
    }
   ],
   "source": [
    "c[6:11]"
   ]
  },
  {
   "cell_type": "code",
   "execution_count": 43,
   "id": "4cf180bb-2100-4f60-96c5-2f0dccd0d1f4",
   "metadata": {},
   "outputs": [],
   "source": [
    "#Q11 Create a variable named is_student' and assign it to a boolean value indicating whether you are a student or not"
   ]
  },
  {
   "cell_type": "code",
   "execution_count": 63,
   "id": "bd21719f-f046-4de0-8dc8-42324afc6dd5",
   "metadata": {},
   "outputs": [
    {
     "name": "stdout",
     "output_type": "stream",
     "text": [
      "Currently not a student\n"
     ]
    }
   ],
   "source": [
    "is_student = True\n",
    "if is_student == \"false\" :\n",
    "    print(\"Currently a student\")\n",
    "else :\n",
    "    print(\"Currently not a student\")"
   ]
  },
  {
   "cell_type": "code",
   "execution_count": null,
   "id": "b309737a-96aa-4209-a6a0-4d99e926b624",
   "metadata": {},
   "outputs": [],
   "source": []
  },
  {
   "cell_type": "code",
   "execution_count": null,
   "id": "46a95f1e-aadf-4dd7-a51e-f4a3d5867cc9",
   "metadata": {},
   "outputs": [],
   "source": []
  }
 ],
 "metadata": {
  "kernelspec": {
   "display_name": "Python 3 (ipykernel)",
   "language": "python",
   "name": "python3"
  },
  "language_info": {
   "codemirror_mode": {
    "name": "ipython",
    "version": 3
   },
   "file_extension": ".py",
   "mimetype": "text/x-python",
   "name": "python",
   "nbconvert_exporter": "python",
   "pygments_lexer": "ipython3",
   "version": "3.10.8"
  }
 },
 "nbformat": 4,
 "nbformat_minor": 5
}
