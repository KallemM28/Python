{
 "cells": [
  {
   "cell_type": "code",
   "execution_count": 1,
   "id": "ba134550-183f-4e0b-a07f-8f7616bce452",
   "metadata": {},
   "outputs": [],
   "source": [
    "#Q1 of 1 to 25Which key woed is used to create a function. Create a function to return a list of odd numbers in the ramge "
   ]
  },
  {
   "cell_type": "code",
   "execution_count": 2,
   "id": "5afec239-3dc9-4cf5-949b-d49034407472",
   "metadata": {},
   "outputs": [],
   "source": [
    "# def key word is used to create afunction"
   ]
  },
  {
   "cell_type": "code",
   "execution_count": 3,
   "id": "c98b36a0-0182-4403-a4b8-19171636bcab",
   "metadata": {},
   "outputs": [],
   "source": [
    "def test1(a):\n",
    "  n = []\n",
    "  for i in a :\n",
    "    if i%2 != 0:\n",
    "      n.append(i)\n",
    "  return n"
   ]
  },
  {
   "cell_type": "code",
   "execution_count": 4,
   "id": "f584e42a-12d4-4b1d-ad8b-fa0cf7bb522a",
   "metadata": {},
   "outputs": [
    {
     "data": {
      "text/plain": [
       "[1, 3, 5, 7, 9, 11, 13, 15, 17, 19, 21, 23]"
      ]
     },
     "execution_count": 4,
     "metadata": {},
     "output_type": "execute_result"
    }
   ],
   "source": [
    "test1(range(1,25))"
   ]
  },
  {
   "cell_type": "code",
   "execution_count": 5,
   "id": "ab983bb5-ea5a-42a5-9955-b18edead5238",
   "metadata": {},
   "outputs": [],
   "source": [
    "#Q2 Why args and kwargs is used in some functions. Create a function each for args and kwargs to dermonstrate their use\n"
   ]
  },
  {
   "cell_type": "code",
   "execution_count": 6,
   "id": "545e5443-a4ee-4337-8d76-55d27a8d8992",
   "metadata": {},
   "outputs": [],
   "source": [
    "# args any number of arguments can be taken"
   ]
  },
  {
   "cell_type": "code",
   "execution_count": 7,
   "id": "a962a840-4b51-46e6-af37-1c9ff5c52491",
   "metadata": {},
   "outputs": [],
   "source": [
    "def test2(*mounika):\n",
    "  return mounika"
   ]
  },
  {
   "cell_type": "code",
   "execution_count": 8,
   "id": "928feca9-dc2f-4251-b598-748ba7612f73",
   "metadata": {},
   "outputs": [
    {
     "data": {
      "text/plain": [
       "(2, 3, 4, 5, 6)"
      ]
     },
     "execution_count": 8,
     "metadata": {},
     "output_type": "execute_result"
    }
   ],
   "source": [
    "test2(2,3,4,5,6)"
   ]
  },
  {
   "cell_type": "code",
   "execution_count": 9,
   "id": "a549ee4d-d4de-4b90-b9d0-9f4c3afceb05",
   "metadata": {},
   "outputs": [],
   "source": [
    "# kwargs any number of key and value arguments can be passed"
   ]
  },
  {
   "cell_type": "code",
   "execution_count": 10,
   "id": "bdc37331-0b13-4b7d-aaac-4972b4daf9c4",
   "metadata": {},
   "outputs": [],
   "source": [
    "def test3(**kwargs):\n",
    "  return kwargs"
   ]
  },
  {
   "cell_type": "code",
   "execution_count": 11,
   "id": "0085f8c2-eff2-4aee-9ab4-b446e88471a6",
   "metadata": {},
   "outputs": [
    {
     "data": {
      "text/plain": [
       "{'a': 8, 'b': 6, 'c': [2, 3, 4, 5, 6]}"
      ]
     },
     "execution_count": 11,
     "metadata": {},
     "output_type": "execute_result"
    }
   ],
   "source": [
    "test3(a =8, b= 6, c= [2,3,4,5,6])"
   ]
  },
  {
   "cell_type": "code",
   "execution_count": 12,
   "id": "ae7803bc-a1f1-4f62-bb4f-cd0f917023c5",
   "metadata": {},
   "outputs": [],
   "source": [
    "#Q3 What is an iterator in python? Name the method used to initialize the object and the method used for iteration. Use these methodsto pribt the first 5 elemnts of the given list [2,4,6,8,10,12,14,16,18,20]\n"
   ]
  },
  {
   "cell_type": "code",
   "execution_count": 13,
   "id": "28ceae3a-3df9-445a-9833-5f952fc0fef4",
   "metadata": {},
   "outputs": [],
   "source": [
    "#An iterator in Python is an object that is used to iterate over iterable objects like lists, tuples, dicts, and sets. The Python iterators object is initialized using the iter() method. It uses the next() method for iteration."
   ]
  },
  {
   "cell_type": "code",
   "execution_count": 14,
   "id": "e3d5ea57-7055-4577-8d63-7e4b8a77d048",
   "metadata": {},
   "outputs": [],
   "source": [
    "a = [2,4,6,8,10,12,14,16,18,20]"
   ]
  },
  {
   "cell_type": "code",
   "execution_count": 15,
   "id": "1349c9b1-666a-4b6f-9123-3502d44198de",
   "metadata": {},
   "outputs": [
    {
     "name": "stdout",
     "output_type": "stream",
     "text": [
      "2\n",
      "4\n",
      "6\n",
      "8\n",
      "10\n"
     ]
    }
   ],
   "source": [
    "first_five = iter(a)\n",
    "for i in range(5) :\n",
    "  print (next(first_five))\n"
   ]
  },
  {
   "cell_type": "code",
   "execution_count": 16,
   "id": "e7030d89-9b1c-4c8b-81e9-1d045bfc84a1",
   "metadata": {},
   "outputs": [],
   "source": [
    "#Q4 What is a generator function in python. Why yield key word is used. Give an example of generator function"
   ]
  },
  {
   "cell_type": "code",
   "execution_count": 23,
   "id": "3c677dce-6468-4cf8-9613-3d2251c24e7e",
   "metadata": {},
   "outputs": [
    {
     "data": {
      "text/plain": [
       "'A generator is a special type of function which does not return a single value, instead, \\nit returns an iterator object with a sequence of values.Generator function allows you to declare a \\nfunction that behaves like an iterator, providing a faster and easier way to create iterators. yield key word is used to create range like functions'"
      ]
     },
     "execution_count": 23,
     "metadata": {},
     "output_type": "execute_result"
    }
   ],
   "source": [
    "'''A generator is a special type of function which does not return a single value, instead, \n",
    "it returns an iterator object with a sequence of values.Generator function allows you to declare a \n",
    "function that behaves like an iterator, providing a faster and easier way to create iterators. yield key word is used to create range like functions'''"
   ]
  },
  {
   "cell_type": "code",
   "execution_count": 18,
   "id": "3156f786-c61b-4637-ab36-077a28d20b35",
   "metadata": {},
   "outputs": [],
   "source": [
    "def test1(n):\n",
    "  a, b = 1,2 \n",
    "  for i in range(n):\n",
    "    yield a\n",
    "    a, b= a*2, b*2"
   ]
  },
  {
   "cell_type": "code",
   "execution_count": 19,
   "id": "d87ec591-45b9-4a50-abbc-f81052f4324f",
   "metadata": {},
   "outputs": [
    {
     "data": {
      "text/plain": [
       "<generator object test1 at 0x7ff494356180>"
      ]
     },
     "execution_count": 19,
     "metadata": {},
     "output_type": "execute_result"
    }
   ],
   "source": [
    "test1(10)"
   ]
  },
  {
   "cell_type": "code",
   "execution_count": 20,
   "id": "8c4575e4-1666-4eb6-8520-18c660b023bb",
   "metadata": {},
   "outputs": [
    {
     "name": "stdout",
     "output_type": "stream",
     "text": [
      "1\n",
      "2\n",
      "4\n",
      "8\n",
      "16\n",
      "32\n",
      "64\n",
      "128\n",
      "256\n",
      "512\n"
     ]
    }
   ],
   "source": [
    "for i in test1(10):\n",
    "  print(i)\n"
   ]
  },
  {
   "cell_type": "code",
   "execution_count": 24,
   "id": "b3f0351f-2a0e-4b95-bdad-06dab26f60fd",
   "metadata": {},
   "outputs": [],
   "source": [
    "#Q5 Create a generator function for prime numbers less than 1000. \n",
    "# Use the next() method to print the first 20 prime numbers"
   ]
  },
  {
   "cell_type": "code",
   "execution_count": 25,
   "id": "a4d915e0-2f7e-4723-8d42-adf7ea2f9cbe",
   "metadata": {},
   "outputs": [
    {
     "name": "stdout",
     "output_type": "stream",
     "text": [
      "2\n",
      "3\n",
      "5\n",
      "7\n",
      "11\n",
      "13\n",
      "17\n",
      "19\n",
      "23\n",
      "29\n",
      "31\n",
      "37\n",
      "41\n",
      "43\n",
      "47\n",
      "53\n",
      "59\n",
      "61\n",
      "67\n",
      "71\n"
     ]
    }
   ],
   "source": [
    "def genprime():\n",
    "    num=2\n",
    "    count = 0\n",
    "    \n",
    "    while (num<1000): \n",
    "        prime = True\n",
    "        \n",
    "        for i in range(2, num):\n",
    "            if num % i==0:\n",
    "                prime = False\n",
    "                break\n",
    "            \n",
    "        if prime:\n",
    "            yield num\n",
    "            count +=1\n",
    "            \n",
    "        num += 1\n",
    "\n",
    "\n",
    "primeGen=genprime()\n",
    "\n",
    "for i in range(20):\n",
    "    print(next(primeGen))"
   ]
  },
  {
   "cell_type": "code",
   "execution_count": null,
   "id": "98f34df0-d5d7-4f17-a789-95b2a7f0d4be",
   "metadata": {},
   "outputs": [],
   "source": []
  }
 ],
 "metadata": {
  "kernelspec": {
   "display_name": "Python 3 (ipykernel)",
   "language": "python",
   "name": "python3"
  },
  "language_info": {
   "codemirror_mode": {
    "name": "ipython",
    "version": 3
   },
   "file_extension": ".py",
   "mimetype": "text/x-python",
   "name": "python",
   "nbconvert_exporter": "python",
   "pygments_lexer": "ipython3",
   "version": "3.10.8"
  }
 },
 "nbformat": 4,
 "nbformat_minor": 5
}
