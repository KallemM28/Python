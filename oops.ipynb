{
 "cells": [
  {
   "cell_type": "code",
   "execution_count": 1,
   "id": "3f08fff9-44c2-49e7-a344-34fcf14d7b0a",
   "metadata": {},
   "outputs": [],
   "source": [
    "# Q1 Explain class and object with respect to Object Oreiented Programming. Give a suitable example"
   ]
  },
  {
   "cell_type": "code",
   "execution_count": 2,
   "id": "58a4fe2c-c4aa-4246-ac3b-ddc373657ff6",
   "metadata": {},
   "outputs": [],
   "source": [
    "# A Class is an user-defined blueprint from which objects are created. An object is an instance of class. A class is an blueprint while an instance is a copy of the class with actual values"
   ]
  },
  {
   "cell_type": "code",
   "execution_count": 3,
   "id": "6e96fee7-93b4-4301-a28b-d73a57d20608",
   "metadata": {},
   "outputs": [],
   "source": [
    "class pwskills :\n",
    "\n",
    "  def welcome_class(self):\n",
    "    print(\" Welcome to pwskills\")"
   ]
  },
  {
   "cell_type": "code",
   "execution_count": 4,
   "id": "1b63ed6f-6b4d-4dc8-8b37-8adcb78d2271",
   "metadata": {},
   "outputs": [],
   "source": [
    "mounika = pwskills()\n"
   ]
  },
  {
   "cell_type": "code",
   "execution_count": 5,
   "id": "37b9b6ea-9583-4ec2-9ae9-ac53497bd80e",
   "metadata": {},
   "outputs": [
    {
     "name": "stdout",
     "output_type": "stream",
     "text": [
      " Welcome to pwskills\n"
     ]
    }
   ],
   "source": [
    "mounika.welcome_class()"
   ]
  },
  {
   "cell_type": "code",
   "execution_count": 6,
   "id": "92142f04-2e3f-47e7-b8ee-c70707cde583",
   "metadata": {},
   "outputs": [],
   "source": [
    "# here pwskills is class, mounika is object"
   ]
  },
  {
   "cell_type": "code",
   "execution_count": 7,
   "id": "999b259c-bb4c-4fce-a62d-641a91a3805d",
   "metadata": {},
   "outputs": [],
   "source": [
    "# Q2 Name the four pillars of OOPS"
   ]
  },
  {
   "cell_type": "code",
   "execution_count": 8,
   "id": "a772f157-9840-4ca9-97f8-c42ce13247f1",
   "metadata": {},
   "outputs": [],
   "source": [
    "# Abstraction, Encapsulation, Inheritance, polymorphism"
   ]
  },
  {
   "cell_type": "code",
   "execution_count": 9,
   "id": "be98cf05-548b-4766-936e-97c5aae13fa3",
   "metadata": {},
   "outputs": [],
   "source": [
    "# Q3 Explain why __init__ is used . Give a suitable example"
   ]
  },
  {
   "cell_type": "code",
   "execution_count": 10,
   "id": "93d53760-964b-47f2-a3d2-f5cb1df2a32c",
   "metadata": {},
   "outputs": [],
   "source": [
    "# __init__ () function is used to assign values to object properties, or other operations that are necessary to do when the object is being created\n",
    "\n"
   ]
  },
  {
   "cell_type": "code",
   "execution_count": null,
   "id": "73bda7e9-17c4-476d-bbee-5e0cd1fce12c",
   "metadata": {},
   "outputs": [],
   "source": []
  }
 ],
 "metadata": {
  "kernelspec": {
   "display_name": "Python 3 (ipykernel)",
   "language": "python",
   "name": "python3"
  },
  "language_info": {
   "codemirror_mode": {
    "name": "ipython",
    "version": 3
   },
   "file_extension": ".py",
   "mimetype": "text/x-python",
   "name": "python",
   "nbconvert_exporter": "python",
   "pygments_lexer": "ipython3",
   "version": "3.10.8"
  }
 },
 "nbformat": 4,
 "nbformat_minor": 5
}
