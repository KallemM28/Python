{
 "cells": [
  {
   "cell_type": "code",
   "execution_count": 1,
   "id": "3f08fff9-44c2-49e7-a344-34fcf14d7b0a",
   "metadata": {},
   "outputs": [],
   "source": [
    "# Q1 Explain class and object with respect to Object Oreiented Programming. Give a suitable example"
   ]
  },
  {
   "cell_type": "code",
   "execution_count": 2,
   "id": "58a4fe2c-c4aa-4246-ac3b-ddc373657ff6",
   "metadata": {},
   "outputs": [],
   "source": [
    "# A Class is an user-defined blueprint from which objects are created. An object is an instance of class. A class is an blueprint while an instance is a copy of the class with actual values"
   ]
  },
  {
   "cell_type": "code",
   "execution_count": 3,
   "id": "6e96fee7-93b4-4301-a28b-d73a57d20608",
   "metadata": {},
   "outputs": [],
   "source": [
    "class pwskills :\n",
    "\n",
    "  def welcome_class(self):\n",
    "    print(\" Welcome to pwskills\")"
   ]
  },
  {
   "cell_type": "code",
   "execution_count": 4,
   "id": "1b63ed6f-6b4d-4dc8-8b37-8adcb78d2271",
   "metadata": {},
   "outputs": [],
   "source": [
    "mounika = pwskills()\n"
   ]
  },
  {
   "cell_type": "code",
   "execution_count": 5,
   "id": "37b9b6ea-9583-4ec2-9ae9-ac53497bd80e",
   "metadata": {},
   "outputs": [
    {
     "name": "stdout",
     "output_type": "stream",
     "text": [
      " Welcome to pwskills\n"
     ]
    }
   ],
   "source": [
    "mounika.welcome_class()"
   ]
  },
  {
   "cell_type": "code",
   "execution_count": 6,
   "id": "92142f04-2e3f-47e7-b8ee-c70707cde583",
   "metadata": {},
   "outputs": [],
   "source": [
    "# here pwskills is class, mounika is object"
   ]
  },
  {
   "cell_type": "code",
   "execution_count": 7,
   "id": "999b259c-bb4c-4fce-a62d-641a91a3805d",
   "metadata": {},
   "outputs": [],
   "source": [
    "# Q2 Name the four pillars of OOPS"
   ]
  },
  {
   "cell_type": "code",
   "execution_count": 8,
   "id": "a772f157-9840-4ca9-97f8-c42ce13247f1",
   "metadata": {},
   "outputs": [],
   "source": [
    "# Abstraction, Encapsulation, Inheritance, polymorphism"
   ]
  },
  {
   "cell_type": "code",
   "execution_count": 9,
   "id": "be98cf05-548b-4766-936e-97c5aae13fa3",
   "metadata": {},
   "outputs": [],
   "source": [
    "# Q3 Explain why __init__ is used . Give a suitable example"
   ]
  },
  {
   "cell_type": "code",
   "execution_count": 10,
   "id": "93d53760-964b-47f2-a3d2-f5cb1df2a32c",
   "metadata": {},
   "outputs": [],
   "source": [
    "# __init__ () function is used to assign values to object properties, or other operations that are necessary to do when the object is being created\n",
    "\n"
   ]
  },
  {
   "cell_type": "code",
   "execution_count": 11,
   "id": "73bda7e9-17c4-476d-bbee-5e0cd1fce12c",
   "metadata": {},
   "outputs": [],
   "source": [
    "class pwskills1():\n",
    "    def __init__(self, name, number):\n",
    "        self.name = name\n",
    "        self.number = number\n",
    "\n",
    "    def return_student_details(self):\n",
    "        return self.name, self.number"
   ]
  },
  {
   "cell_type": "code",
   "execution_count": 12,
   "id": "df0c28ca-b49a-4a6c-87e7-6290336f00a0",
   "metadata": {},
   "outputs": [],
   "source": [
    "pw = pwskills1(\"mounika\", \"7899\")"
   ]
  },
  {
   "cell_type": "code",
   "execution_count": 13,
   "id": "f262e2c5-0249-4320-a282-9f729c7a4c79",
   "metadata": {},
   "outputs": [
    {
     "data": {
      "text/plain": [
       "'mounika'"
      ]
     },
     "execution_count": 13,
     "metadata": {},
     "output_type": "execute_result"
    }
   ],
   "source": [
    "pw.name"
   ]
  },
  {
   "cell_type": "code",
   "execution_count": 14,
   "id": "6228453d-876c-4479-b97e-948db762c424",
   "metadata": {},
   "outputs": [],
   "source": [
    "# Q4 Why self is used in OOPS"
   ]
  },
  {
   "cell_type": "code",
   "execution_count": 15,
   "id": "23a36043-ef55-4494-b83f-ca57e37d8f62",
   "metadata": {},
   "outputs": [],
   "source": [
    "# By using the “self”  we can access the attributes and methods of the class in python. It binds the attributes with the given arguments."
   ]
  },
  {
   "cell_type": "code",
   "execution_count": 16,
   "id": "4bead80f-0220-4ebd-b361-0fc0f1e56f5d",
   "metadata": {},
   "outputs": [],
   "source": [
    "# Q5 What is Inheritance. Givean example for each type of Inheritance"
   ]
  },
  {
   "cell_type": "code",
   "execution_count": 17,
   "id": "1d541793-4e3c-49a2-a5ad-746a95030619",
   "metadata": {},
   "outputs": [],
   "source": [
    "# Inheritance is used to derive a class from another class for a hierarchy of classes that share a set of attributes and methods."
   ]
  },
  {
   "cell_type": "code",
   "execution_count": 18,
   "id": "46fb410f-b682-4304-84f3-4d0009a214f2",
   "metadata": {},
   "outputs": [],
   "source": [
    "class class1:\n",
    "  def test_class(self):\n",
    "    print(\"this is my first class\")"
   ]
  },
  {
   "cell_type": "code",
   "execution_count": 19,
   "id": "59e91bb7-42b7-4d08-a75b-7627141430d3",
   "metadata": {},
   "outputs": [],
   "source": [
    "class class2(class1):\n",
    "  def test_class1(self):\n",
    "    print(\"this is my second class\")"
   ]
  },
  {
   "cell_type": "code",
   "execution_count": 20,
   "id": "13bcf647-0acf-40d5-9968-74b1eb38b2a2",
   "metadata": {},
   "outputs": [],
   "source": [
    "class class3(class2):\n",
    "  def test_class2(self):\n",
    "    print(\"this is my third class\")"
   ]
  },
  {
   "cell_type": "code",
   "execution_count": 21,
   "id": "733d599a-3f72-4dce-80ad-9158f79c8f2a",
   "metadata": {},
   "outputs": [],
   "source": [
    "pw_obj = class3()"
   ]
  },
  {
   "cell_type": "code",
   "execution_count": 22,
   "id": "6ccf0b59-1502-43e6-a082-86fa66b72e91",
   "metadata": {},
   "outputs": [
    {
     "name": "stdout",
     "output_type": "stream",
     "text": [
      "this is my third class\n"
     ]
    }
   ],
   "source": [
    "pw_obj.test_class2()"
   ]
  },
  {
   "cell_type": "code",
   "execution_count": null,
   "id": "4cd20584-fe96-4939-8f34-c4a5480312c5",
   "metadata": {},
   "outputs": [],
   "source": []
  }
 ],
 "metadata": {
  "kernelspec": {
   "display_name": "Python 3 (ipykernel)",
   "language": "python",
   "name": "python3"
  },
  "language_info": {
   "codemirror_mode": {
    "name": "ipython",
    "version": 3
   },
   "file_extension": ".py",
   "mimetype": "text/x-python",
   "name": "python",
   "nbconvert_exporter": "python",
   "pygments_lexer": "ipython3",
   "version": "3.10.8"
  }
 },
 "nbformat": 4,
 "nbformat_minor": 5
}
