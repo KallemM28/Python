{
 "cells": [
  {
   "cell_type": "code",
   "execution_count": 1,
   "id": "f689f8f6-7751-403c-81ac-90085e3d7915",
   "metadata": {},
   "outputs": [],
   "source": [
    "# Q1. Create a vehicle class with an init method having instance variables as name_of_Vehicle, max_speed and averag"
   ]
  },
  {
   "cell_type": "code",
   "execution_count": 2,
   "id": "4508a8ea-2da2-46b2-94e1-ef97d6744d0e",
   "metadata": {},
   "outputs": [],
   "source": [
    "class vehicle:\n",
    "  def __init__(self, name_of_vehicle, max_speed, average_of_vehicle):\n",
    "    self.name_of_vehicle = name_of_vehicle\n",
    "    self.max_speed = max_speed\n",
    "    self.average_of_vehicle = average_of_vehicle\n",
    "\n",
    "    def return_vehicle_details(self):\n",
    "      return(self.name_of_vehicle, self.max_speed, self.average_of_vehicle)"
   ]
  },
  {
   "cell_type": "code",
   "execution_count": 3,
   "id": "b69e4c36-28f6-424d-acbc-60a78f78c422",
   "metadata": {},
   "outputs": [],
   "source": [
    "tata = vehicle(\"altrozz\", 120, 45)"
   ]
  },
  {
   "cell_type": "code",
   "execution_count": 4,
   "id": "495ff445-5853-491d-9e6c-7fd70d9cc1d8",
   "metadata": {},
   "outputs": [
    {
     "data": {
      "text/plain": [
       "45"
      ]
     },
     "execution_count": 4,
     "metadata": {},
     "output_type": "execute_result"
    }
   ],
   "source": [
    "tata.average_of_vehicle"
   ]
  },
  {
   "cell_type": "code",
   "execution_count": 5,
   "id": "59c571cc-e922-407d-92d4-6e7e05a8e55f",
   "metadata": {},
   "outputs": [
    {
     "data": {
      "text/plain": [
       "'altrozz'"
      ]
     },
     "execution_count": 5,
     "metadata": {},
     "output_type": "execute_result"
    }
   ],
   "source": [
    "tata.name_of_vehicle"
   ]
  },
  {
   "cell_type": "code",
   "execution_count": 6,
   "id": "d632cb45-204d-4807-9e5c-46805a72873a",
   "metadata": {},
   "outputs": [],
   "source": [
    "#Q2. Create a child class car from the vehicle class created in Que1,which will inherit the vehicle class.\n",
    "# Create a method named seating_capacity which takes capacity as an argument and returns the name of t"
   ]
  },
  {
   "cell_type": "code",
   "execution_count": 11,
   "id": "b5dc41ec-c01d-4129-a5ec-5bdd021665f2",
   "metadata": {},
   "outputs": [],
   "source": [
    "class vehicle():\n",
    "  def vehiclename(self):\n",
    "    print(\"name of the vehicle is wagner\")"
   ]
  },
  {
   "cell_type": "code",
   "execution_count": 12,
   "id": "c955a316-4a91-40bf-af0e-c44fee61b760",
   "metadata": {},
   "outputs": [],
   "source": [
    "class car():\n",
    "  def vehiclename(self):\n",
    "    print(\"seating_capacity is 5\")"
   ]
  },
  {
   "cell_type": "code",
   "execution_count": 13,
   "id": "e731af72-07d2-4b0c-8e7c-885eccf6ddc5",
   "metadata": {},
   "outputs": [],
   "source": [
    "def class_parcer(class_obj):\n",
    "  for i in class_obj:\n",
    "    i.vehiclename()"
   ]
  },
  {
   "cell_type": "code",
   "execution_count": 14,
   "id": "16ebb40f-f7dc-40a5-9fe7-77fdff3ed5f5",
   "metadata": {},
   "outputs": [],
   "source": [
    "obj_vehicle = vehicle()"
   ]
  },
  {
   "cell_type": "code",
   "execution_count": 15,
   "id": "37d10379-cbd4-4a90-ae60-b6e42f8389ce",
   "metadata": {},
   "outputs": [],
   "source": [
    "obj_car = car()"
   ]
  },
  {
   "cell_type": "code",
   "execution_count": 16,
   "id": "9d765200-0c32-440a-b133-4109c0f21acb",
   "metadata": {},
   "outputs": [],
   "source": [
    "class_obj = [obj_vehicle, obj_car]"
   ]
  },
  {
   "cell_type": "code",
   "execution_count": 17,
   "id": "e680e438-2228-4fce-95a7-a98b90bc12c7",
   "metadata": {},
   "outputs": [
    {
     "name": "stdout",
     "output_type": "stream",
     "text": [
      "name of the vehicle is wagner\n",
      "seating_capacity is 5\n"
     ]
    }
   ],
   "source": [
    "class_parcer(class_obj)"
   ]
  },
  {
   "cell_type": "code",
   "execution_count": 18,
   "id": "e74d667e-bf92-4329-b19c-952b9c58c3fe",
   "metadata": {},
   "outputs": [],
   "source": [
    "#Q3. What is multiple inheritance? Write a python code to demonstrate multiple iheritance."
   ]
  },
  {
   "cell_type": "code",
   "execution_count": 20,
   "id": "58176ca1-927c-4fed-924f-715590008b15",
   "metadata": {},
   "outputs": [],
   "source": [
    "# If a child class inherits from more than one class, \n",
    "# this child class is derived from multiple classes, we call it multiple inheritance"
   ]
  },
  {
   "cell_type": "code",
   "execution_count": 21,
   "id": "715afdda-9b89-4c35-9f78-e1b75ebed888",
   "metadata": {},
   "outputs": [],
   "source": [
    "class class1:\n",
    "    def test_class1(self):\n",
    "        print(\"This is class1\")\n",
    "        \n",
    "class class2:\n",
    "    def test_class2(self):\n",
    "        print(\"This is class2\")\n",
    "        \n",
    "class class3 (class1,class2):\n",
    "    pass"
   ]
  },
  {
   "cell_type": "code",
   "execution_count": 22,
   "id": "50af9fe8-2d28-48b5-b81a-ad1bc61805d8",
   "metadata": {},
   "outputs": [],
   "source": [
    "Class3=class3()"
   ]
  },
  {
   "cell_type": "code",
   "execution_count": 23,
   "id": "0d0892db-8660-4e7c-8854-8011d0723fe3",
   "metadata": {},
   "outputs": [
    {
     "name": "stdout",
     "output_type": "stream",
     "text": [
      "This is class1\n"
     ]
    }
   ],
   "source": [
    "Class3.test_class1()"
   ]
  },
  {
   "cell_type": "code",
   "execution_count": 24,
   "id": "c5ea3ece-3ec2-4001-a509-4d78522b298f",
   "metadata": {},
   "outputs": [
    {
     "name": "stdout",
     "output_type": "stream",
     "text": [
      "This is class2\n"
     ]
    }
   ],
   "source": [
    "Class3.test_class2()"
   ]
  },
  {
   "cell_type": "code",
   "execution_count": 25,
   "id": "5a286ff6-59ba-4ce9-8568-22568b2aec83",
   "metadata": {},
   "outputs": [],
   "source": [
    "#Q4 What are getter and setter in python? Create a class and and create a getter and setter method in this class"
   ]
  },
  {
   "cell_type": "code",
   "execution_count": 26,
   "id": "88f2f8c5-4115-4c96-90b6-96ba464f0a1a",
   "metadata": {},
   "outputs": [],
   "source": [
    "class person:\n",
    "    def __init__(self, name, gender, age):\n",
    "        self.name = name\n",
    "        self.gender=gender\n",
    "        self.__age=age\n",
    "# Getter Method\n",
    "    def get__age(self):\n",
    "        return self.__age\n",
    "# Setter Method\n",
    "    def set__age(self,age):\n",
    "        self.__age=age"
   ]
  },
  {
   "cell_type": "code",
   "execution_count": 27,
   "id": "fd7156ea-1e5b-410d-ab8a-555c175699ca",
   "metadata": {},
   "outputs": [],
   "source": [
    "per = person(\"Krishna\",\"Male\", 25)"
   ]
  },
  {
   "cell_type": "code",
   "execution_count": 30,
   "id": "9bb416ca-73fc-4c2f-8713-951f069cd34d",
   "metadata": {},
   "outputs": [
    {
     "data": {
      "text/plain": [
       "'Krishna'"
      ]
     },
     "execution_count": 30,
     "metadata": {},
     "output_type": "execute_result"
    }
   ],
   "source": [
    "per.name"
   ]
  },
  {
   "cell_type": "code",
   "execution_count": 29,
   "id": "ee1205fe-6a1a-4f37-9a6c-0496b0afbfbe",
   "metadata": {},
   "outputs": [
    {
     "data": {
      "text/plain": [
       "25"
      ]
     },
     "execution_count": 29,
     "metadata": {},
     "output_type": "execute_result"
    }
   ],
   "source": [
    "per.get__age()"
   ]
  },
  {
   "cell_type": "code",
   "execution_count": 31,
   "id": "9a6c1620-ed25-4496-a1f3-d71a384d7372",
   "metadata": {},
   "outputs": [],
   "source": [
    "per.set__age(45)"
   ]
  },
  {
   "cell_type": "code",
   "execution_count": 32,
   "id": "5587d1ad-96b5-46a3-9938-2a7b7559b2b1",
   "metadata": {},
   "outputs": [
    {
     "data": {
      "text/plain": [
       "45"
      ]
     },
     "execution_count": 32,
     "metadata": {},
     "output_type": "execute_result"
    }
   ],
   "source": [
    "per.get__age()"
   ]
  },
  {
   "cell_type": "code",
   "execution_count": 33,
   "id": "046f36f9-41c9-4ca1-beff-3533d91947f1",
   "metadata": {},
   "outputs": [],
   "source": [
    "#Q5. What is method overriding in python? Write a python code to demonstrate method overriding."
   ]
  },
  {
   "cell_type": "code",
   "execution_count": 34,
   "id": "31ccd8b3-3406-443c-bb08-c95e05022c40",
   "metadata": {},
   "outputs": [
    {
     "data": {
      "text/plain": [
       "' Method overriding is a feature where the subclass or child class defines a method with the same name as \\nmethod in its prent class.The child class or subclass overrides the implementation of the parent class method, \\nallowing the child class or subclass to provide its own implementation'"
      ]
     },
     "execution_count": 34,
     "metadata": {},
     "output_type": "execute_result"
    }
   ],
   "source": [
    "\"\"\" Method overriding is a feature where the subclass or child class defines a method with the same name as \n",
    "method in its prent class.The child class or subclass overrides the implementation of the parent class method, \n",
    "allowing the child class or subclass to provide its own implementation\"\"\""
   ]
  },
  {
   "cell_type": "code",
   "execution_count": 35,
   "id": "aa466f37-4b27-4dd1-b760-e83be1d6b3c1",
   "metadata": {},
   "outputs": [],
   "source": [
    "class classA:\n",
    "    def out(self):\n",
    "        return \"This is class A output\"\n",
    "class classB(classA):\n",
    "    def out(self):\n",
    "        return \"This is class B output\""
   ]
  },
  {
   "cell_type": "code",
   "execution_count": 39,
   "id": "c934db10-fbd4-4be4-a6fe-139ddc3b2437",
   "metadata": {},
   "outputs": [],
   "source": [
    "ob = classB()"
   ]
  },
  {
   "cell_type": "code",
   "execution_count": 40,
   "id": "70787059-1ae1-4422-8820-15e79a4cb5e8",
   "metadata": {},
   "outputs": [
    {
     "data": {
      "text/plain": [
       "'This is class B output'"
      ]
     },
     "execution_count": 40,
     "metadata": {},
     "output_type": "execute_result"
    }
   ],
   "source": [
    "ob.out()"
   ]
  },
  {
   "cell_type": "code",
   "execution_count": null,
   "id": "4ed4b013-443f-431a-b899-44757c6e1801",
   "metadata": {},
   "outputs": [],
   "source": []
  }
 ],
 "metadata": {
  "kernelspec": {
   "display_name": "Python 3 (ipykernel)",
   "language": "python",
   "name": "python3"
  },
  "language_info": {
   "codemirror_mode": {
    "name": "ipython",
    "version": 3
   },
   "file_extension": ".py",
   "mimetype": "text/x-python",
   "name": "python",
   "nbconvert_exporter": "python",
   "pygments_lexer": "ipython3",
   "version": "3.10.8"
  }
 },
 "nbformat": 4,
 "nbformat_minor": 5
}
